{
 "cells": [
  {
   "cell_type": "code",
   "execution_count": 1,
   "id": "7467b7bb-97f2-4fca-8c0d-44388697de77",
   "metadata": {},
   "outputs": [
    {
     "name": "stdout",
     "output_type": "stream",
     "text": [
      "Requirement already satisfied: pandas in c:\\users\\nayak\\anaconda3\\lib\\site-packages (2.2.2)\n",
      "Requirement already satisfied: numpy in c:\\users\\nayak\\anaconda3\\lib\\site-packages (1.26.4)\n",
      "Requirement already satisfied: scikit-learn in c:\\users\\nayak\\anaconda3\\lib\\site-packages (1.5.1)\n",
      "Requirement already satisfied: xgboost in c:\\users\\nayak\\anaconda3\\lib\\site-packages (3.0.2)\n",
      "Requirement already satisfied: matplotlib in c:\\users\\nayak\\anaconda3\\lib\\site-packages (3.9.2)\n",
      "Requirement already satisfied: seaborn in c:\\users\\nayak\\anaconda3\\lib\\site-packages (0.13.2)\n",
      "Requirement already satisfied: python-dateutil>=2.8.2 in c:\\users\\nayak\\anaconda3\\lib\\site-packages (from pandas) (2.9.0.post0)\n",
      "Requirement already satisfied: pytz>=2020.1 in c:\\users\\nayak\\anaconda3\\lib\\site-packages (from pandas) (2024.1)\n",
      "Requirement already satisfied: tzdata>=2022.7 in c:\\users\\nayak\\anaconda3\\lib\\site-packages (from pandas) (2023.3)\n",
      "Requirement already satisfied: scipy>=1.6.0 in c:\\users\\nayak\\anaconda3\\lib\\site-packages (from scikit-learn) (1.13.1)\n",
      "Requirement already satisfied: joblib>=1.2.0 in c:\\users\\nayak\\anaconda3\\lib\\site-packages (from scikit-learn) (1.4.2)\n",
      "Requirement already satisfied: threadpoolctl>=3.1.0 in c:\\users\\nayak\\anaconda3\\lib\\site-packages (from scikit-learn) (3.5.0)\n",
      "Requirement already satisfied: contourpy>=1.0.1 in c:\\users\\nayak\\anaconda3\\lib\\site-packages (from matplotlib) (1.2.0)\n",
      "Requirement already satisfied: cycler>=0.10 in c:\\users\\nayak\\anaconda3\\lib\\site-packages (from matplotlib) (0.11.0)\n",
      "Requirement already satisfied: fonttools>=4.22.0 in c:\\users\\nayak\\anaconda3\\lib\\site-packages (from matplotlib) (4.51.0)\n",
      "Requirement already satisfied: kiwisolver>=1.3.1 in c:\\users\\nayak\\anaconda3\\lib\\site-packages (from matplotlib) (1.4.4)\n",
      "Requirement already satisfied: packaging>=20.0 in c:\\users\\nayak\\anaconda3\\lib\\site-packages (from matplotlib) (24.1)\n",
      "Requirement already satisfied: pillow>=8 in c:\\users\\nayak\\anaconda3\\lib\\site-packages (from matplotlib) (10.4.0)\n",
      "Requirement already satisfied: pyparsing>=2.3.1 in c:\\users\\nayak\\anaconda3\\lib\\site-packages (from matplotlib) (3.1.2)\n",
      "Requirement already satisfied: six>=1.5 in c:\\users\\nayak\\anaconda3\\lib\\site-packages (from python-dateutil>=2.8.2->pandas) (1.16.0)\n"
     ]
    }
   ],
   "source": [
    "!pip install pandas numpy scikit-learn xgboost matplotlib seaborn\n"
   ]
  },
  {
   "cell_type": "code",
   "execution_count": 2,
   "id": "a63eb833-18a7-489c-ac58-bde0694e4b68",
   "metadata": {},
   "outputs": [
    {
     "name": "stdout",
     "output_type": "stream",
     "text": [
      "✅ Step 0 complete: Libraries installed and imported.\n"
     ]
    }
   ],
   "source": [
    "import pandas as pd\n",
    "import numpy as np\n",
    "import matplotlib.pyplot as plt\n",
    "import seaborn as sns\n",
    "\n",
    "from sklearn.model_selection import train_test_split\n",
    "from sklearn.metrics import f1_score, classification_report, confusion_matrix\n",
    "from sklearn.impute import SimpleImputer\n",
    "from sklearn.preprocessing import StandardScaler\n",
    "\n",
    "from xgboost import XGBClassifier\n",
    "\n",
    "print(\"✅ Step 0 complete: Libraries installed and imported.\")\n"
   ]
  },
  {
   "cell_type": "code",
   "execution_count": 10,
   "id": "53ed8c49-5f17-42cd-96a0-170e7e27e620",
   "metadata": {},
   "outputs": [
    {
     "name": "stdout",
     "output_type": "stream",
     "text": [
      "✅ Data cleaned and encoded. Shape of X: (1952, 7)\n"
     ]
    }
   ],
   "source": [
    "# Reload data to start fresh\n",
    "train = pd.read_csv(\"Train_Data.csv\")\n",
    "test = pd.read_csv(\"Test_Data.csv\")\n",
    "\n",
    "# Drop rows with missing target\n",
    "train = train.dropna(subset=['age_group'])\n",
    "\n",
    "# Map target\n",
    "train['age_group'] = train['age_group'].map({'Adult': 0, 'Senior': 1})\n",
    "\n",
    "# Combine for consistent preprocessing\n",
    "test['age_group'] = -1  # Dummy column to allow concat\n",
    "df = pd.concat([train, test], axis=0).reset_index(drop=True)\n",
    "\n",
    "# Categorical columns\n",
    "cat_cols = ['RIAGENDR', 'PAQ605', 'DIQ010']\n",
    "\n",
    "# Fill categorical with mode\n",
    "for col in cat_cols:\n",
    "    df[col] = df[col].fillna(df[col].mode()[0])\n",
    "\n",
    "# Fill numerical with median\n",
    "num_cols = ['BMXBMI', 'LBXGLU', 'LBXGLT', 'LBXIN']\n",
    "for col in num_cols:\n",
    "    df[col] = df[col].fillna(df[col].median())\n",
    "\n",
    "# Convert categorical to int\n",
    "for col in cat_cols:\n",
    "    df[col] = df[col].astype(int)\n",
    "\n",
    "# Drop SEQN (ID column)\n",
    "df = df.drop(columns=['SEQN'])\n",
    "\n",
    "# Final split\n",
    "train_df = df[df['age_group'] != -1]\n",
    "test_df = df[df['age_group'] == -1].drop(columns=['age_group'])\n",
    "\n",
    "X = train_df.drop(columns=['age_group'])\n",
    "y = train_df['age_group']\n",
    "X_test = test_df.reset_index(drop=True)\n",
    "\n",
    "print(\"✅ Data cleaned and encoded. Shape of X:\", X.shape)\n"
   ]
  },
  {
   "cell_type": "code",
   "execution_count": 11,
   "id": "360642a7-3fc1-490d-a3a1-4abb6f0faa72",
   "metadata": {},
   "outputs": [
    {
     "name": "stdout",
     "output_type": "stream",
     "text": [
      "Class distribution: Counter({0: 1638, 1: 314})\n",
      "scale_pos_weight: 5.22\n"
     ]
    }
   ],
   "source": [
    "from collections import Counter\n",
    "from sklearn.model_selection import train_test_split\n",
    "\n",
    "# Check class distribution\n",
    "counter = Counter(y)\n",
    "print(f\"Class distribution: {counter}\")\n",
    "\n",
    "# Calculate scale_pos_weight = majority / minority\n",
    "scale_pos_weight = counter[0] / counter[1]\n",
    "print(f\"scale_pos_weight: {round(scale_pos_weight, 2)}\")\n",
    "\n",
    "# Split data\n",
    "X_train, X_val, y_train, y_val = train_test_split(\n",
    "    X, y, test_size=0.2, stratify=y, random_state=42\n",
    ")\n"
   ]
  },
  {
   "cell_type": "code",
   "execution_count": 12,
   "id": "336cb2c1-d60f-4dd6-af9d-b30f2e32029a",
   "metadata": {
    "scrolled": true
   },
   "outputs": [
    {
     "name": "stdout",
     "output_type": "stream",
     "text": [
      "📊 Validation F1 Score: 30.3 %\n"
     ]
    }
   ],
   "source": [
    "from xgboost import XGBClassifier\n",
    "from sklearn.metrics import f1_score\n",
    "\n",
    "# Train XGBoost with tuned hyperparameters\n",
    "model = XGBClassifier(\n",
    "    n_estimators=500,\n",
    "    learning_rate=0.03,\n",
    "    max_depth=6,\n",
    "    subsample=0.9,\n",
    "    colsample_bytree=0.9,\n",
    "    scale_pos_weight=scale_pos_weight,  # Handle imbalance\n",
    "    eval_metric='logloss',\n",
    "    random_state=42\n",
    ")\n",
    "\n",
    "model.fit(X_train, y_train)\n",
    "\n",
    "# Predict on validation set\n",
    "y_val_pred = model.predict(X_val)\n",
    "\n",
    "# Evaluate\n",
    "f1 = f1_score(y_val, y_val_pred)\n",
    "print(\"📊 Validation F1 Score:\", round(f1 * 100, 2), \"%\")\n"
   ]
  },
  {
   "cell_type": "code",
   "execution_count": 14,
   "id": "81ffb5f4-8524-4ad7-bfb6-f23d91d26992",
   "metadata": {},
   "outputs": [
    {
     "name": "stdout",
     "output_type": "stream",
     "text": [
      "✅ submission.csv file created successfully!\n"
     ]
    }
   ],
   "source": [
    "# Predict on cleaned test data\n",
    "final_predictions = model.predict(X_test)\n",
    "\n",
    "# Prepare submission DataFrame\n",
    "submission = pd.DataFrame({\n",
    "    \"age_group\": final_predictions  # Already 0 (Adult) or 1 (Senior)\n",
    "})\n",
    "\n",
    "# Save submission file\n",
    "submission.to_csv(\"submission.csv\", index=False)\n",
    "\n",
    "print(\"✅ submission.csv file created successfully!\")\n"
   ]
  },
  {
   "cell_type": "code",
   "execution_count": null,
   "id": "512613ea-c664-489c-b6c5-b84aad3ce2bc",
   "metadata": {},
   "outputs": [],
   "source": []
  }
 ],
 "metadata": {
  "kernelspec": {
   "display_name": "Python [conda env:base] *",
   "language": "python",
   "name": "conda-base-py"
  },
  "language_info": {
   "codemirror_mode": {
    "name": "ipython",
    "version": 3
   },
   "file_extension": ".py",
   "mimetype": "text/x-python",
   "name": "python",
   "nbconvert_exporter": "python",
   "pygments_lexer": "ipython3",
   "version": "3.12.7"
  }
 },
 "nbformat": 4,
 "nbformat_minor": 5
}
